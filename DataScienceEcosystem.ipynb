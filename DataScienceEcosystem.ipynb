{
 "cells": [
  {
   "attachments": {},
   "cell_type": "markdown",
   "id": "dbd50e22-1bbd-4b8f-8075-cfd2acffc1ed",
   "metadata": {},
   "source": [
    "<h1>Data Science Tools and Ecosystem</h1>"
   ]
  },
  {
   "cell_type": "markdown",
   "id": "d5ea1204-d54d-463b-b80e-69896590b1a8",
   "metadata": {},
   "source": [
    "In this notebook, Data Science Tools and \n",
    "Ecosystem are summarized."
   ]
  },
  {
   "cell_type": "markdown",
   "id": "19ee3029-36cb-45a4-b1ea-6a2493106cb1",
   "metadata": {},
   "source": [
    "<b>Objectives:<b>\n",
    "- List popular languages for Data Science\n",
    "- Describe commonly used libraries\n",
    "- Explore open source data science tools\n",
    "- Create markdown tables\n",
    "- Use JupyterLab features effectively"
   ]
  },
  {
   "cell_type": "markdown",
   "id": "00f99fa5-c1a0-4c27-a767-ce1afc704380",
   "metadata": {
    "jupyter": {
     "source_hidden": true
    }
   },
   "source": [
    "Some of the popular languages that Data Scientists use are:\n",
    "\n",
    "1. Python\n",
    "2. R\n",
    "3. SQL"
   ]
  },
  {
   "cell_type": "markdown",
   "id": "5fc16d01-bb28-4f75-9c15-dc607d963a2c",
   "metadata": {},
   "source": [
    "Some of the popular languages that Data Scientists use are:\n",
    "\n",
    "1. Python\n",
    "2. R\n",
    "3. SQL"
   ]
  },
  {
   "cell_type": "markdown",
   "id": "8fa8e34c-7807-4d22-aaed-84e6f0f6e906",
   "metadata": {},
   "source": [
    "Some of the commonly used libraries used by Data Scientists include:\n",
    "\n",
    "1. NumPy  \n",
    "2. Pandas  \n",
    "3. Matplotlib  "
   ]
  },
  {
   "cell_type": "markdown",
   "id": "4ad6567f-cd06-495b-bde2-7fac1df66bbd",
   "metadata": {},
   "source": [
    "| Data Science Tools       |\n",
    "|-------------------------|\n",
    "| Jupyter Notebook        |\n",
    "| RStudio                 |\n",
    "| VS Code                 |"
   ]
  },
  {
   "cell_type": "markdown",
   "id": "84b37195-e893-45dd-afc2-c58c03e95138",
   "metadata": {},
   "source": [
    "<h3>Below are a few examples of evaluating arithmetic expressions in Python.</h3>"
   ]
  },
  {
   "cell_type": "markdown",
   "id": "4aec39c9-3e8a-4a8a-a008-c0b156ba16f3",
   "metadata": {},
   "source": [
    "This a simple arithmetic expression to mutiply then add integers"
   ]
  },
  {
   "cell_type": "code",
   "execution_count": 2,
   "id": "2be70535-c4c2-4716-8045-443dfa49cdd7",
   "metadata": {},
   "outputs": [
    {
     "data": {
      "text/plain": [
       "17"
      ]
     },
     "execution_count": 2,
     "metadata": {},
     "output_type": "execute_result"
    }
   ],
   "source": [
    "(3*4)+5"
   ]
  },
  {
   "cell_type": "markdown",
   "id": "94dd8516-dbcb-4f62-a8b2-684da6657a41",
   "metadata": {},
   "source": [
    "This will convert 200 minutes to hours by diving by 60"
   ]
  },
  {
   "cell_type": "code",
   "execution_count": 4,
   "id": "728d152e-3fc2-4d71-8da0-b389188edcbf",
   "metadata": {
    "scrolled": true
   },
   "outputs": [
    {
     "data": {
      "text/plain": [
       "3.3333333333333335"
      ]
     },
     "execution_count": 4,
     "metadata": {},
     "output_type": "execute_result"
    }
   ],
   "source": [
    "200/60"
   ]
  },
  {
   "cell_type": "markdown",
   "id": "4ac7de1f-1975-4d5d-a489-ee9bdc812e4e",
   "metadata": {},
   "source": [
    "<h3>Author</h3>\n",
    "Sulaiman ALAWAD"
   ]
  },
  {
   "cell_type": "code",
   "execution_count": null,
   "id": "7868fe3a-64a9-47bf-9240-0f01eaf55b2e",
   "metadata": {},
   "outputs": [],
   "source": []
  }
 ],
 "metadata": {
  "kernelspec": {
   "display_name": "Python 3 (ipykernel)",
   "language": "python",
   "name": "python3"
  },
  "language_info": {
   "codemirror_mode": {
    "name": "ipython",
    "version": 3
   },
   "file_extension": ".py",
   "mimetype": "text/x-python",
   "name": "python",
   "nbconvert_exporter": "python",
   "pygments_lexer": "ipython3",
   "version": "3.12.8"
  }
 },
 "nbformat": 4,
 "nbformat_minor": 5
}
